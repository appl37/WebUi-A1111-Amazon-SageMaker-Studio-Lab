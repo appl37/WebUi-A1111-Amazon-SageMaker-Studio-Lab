{
  "cells": [
    {
      "cell_type": "markdown",
      "source": [
        "# Run This Command Only In Terminal\n",
        "\n"
      ],
      "metadata": {
        "id": "vxYteB9nSX3-"
      }
    },
    {
      "cell_type": "code",
      "source": [
        "conda install conda\n",
        "conda update conda\n",
        "conda create --name py310env python=3.10\n",
        "conda activate py310env\n",
        "pip install ipykernel\n",
        "python -m ipykernel install --user --name py310env --display-name \"Python 3.10 (py310env)\""
      ],
      "metadata": {
        "id": "0zSHvnVKTTXu"
      },
      "execution_count": null,
      "outputs": []
    },
    {
      "cell_type": "markdown",
      "source": [
        "# Python dependencies"
      ],
      "metadata": {
        "id": "76xxmC9HKdms"
      }
    },
    {
      "cell_type": "code",
      "source": [
        "from IPython.display import clear_output\n",
        "\n",
        "#Conda installation for PyGObject with automatic \"yes\" confirmation\n",
        "!conda install -c conda-forge pygobject -y\n",
        "\n",
        "# Pip installation for OpenCV and other packages (no need for -y with pip)\n",
        "!pip install opencv-python\n",
        "!pip install opencv-contrib-python\n",
        "\n",
        "clear_output()\n",
        "print('\u001b[1;32mDone!')"
      ],
      "metadata": {
        "id": "fvI5o4AcLJzs"
      },
      "execution_count": null,
      "outputs": []
    },
    {
      "cell_type": "markdown",
      "source": [
        "# Stable-diffusion dependencies"
      ],
      "metadata": {
        "id": "lzzY6lQRKxRt"
      }
    },
    {
      "cell_type": "code",
      "source": [
        "from IPython.display import clear_output\n",
        "\n",
        "# Conda installation for PyTorch with CUDA support\n",
        "!conda install pytorch torchvision torchaudio cudatoolkit=11.3 -c pytorch -y\n",
        "\n",
        "# Install diffusers and other dependencies using pip\n",
        "!pip install diffusers transformers accelerate scipy safetensors\n",
        "!pip install torch torchvision --upgrade\n",
        "!pip install xformers\n",
        "!pip install insightface\n",
        "\n",
        "clear_output()\n",
        "print('\u001b[1;32mDone!')"
      ],
      "metadata": {
        "id": "DF02frn4LECk"
      },
      "execution_count": null,
      "outputs": []
    },
    {
      "cell_type": "markdown",
      "source": [
        "# Install Aria2, FFmpeg, and other tools via Conda"
      ],
      "metadata": {
        "id": "acwt-0GXML07"
      }
    },
    {
      "cell_type": "code",
      "source": [
        "from IPython.display import clear_output\n",
        "\n",
        "# aria2 for parallel downloads, along with other libraries\n",
        "!conda install -y -c conda-forge libglib ffmpeg aria2\n",
        "\n",
        "clear_output()\n",
        "print('\u001b[1;32mDone!')"
      ],
      "metadata": {
        "id": "PqoAyKtPMhIX"
      },
      "execution_count": null,
      "outputs": []
    },
    {
      "cell_type": "markdown",
      "source": [
        "# Check and Clean the storage"
      ],
      "metadata": {
        "id": "kVRWAJQzF1tc"
      }
    },
    {
      "cell_type": "code",
      "source": [
        "#Check the storage available\n",
        "!df -h | grep -E 'Avail|home'\n",
        "\n",
        "print('\u001b[1;32mDone!')"
      ],
      "metadata": {
        "id": "wDOr-13OF4jt"
      },
      "execution_count": null,
      "outputs": []
    },
    {
      "cell_type": "code",
      "source": [
        "#List all folders and sizes\n",
        "!du -h --max-depth=1 /home/studio-lab-user"
      ],
      "metadata": {
        "id": "K5dlQKhuGCtD"
      },
      "execution_count": null,
      "outputs": []
    },
    {
      "cell_type": "code",
      "source": [
        "!rm -rf /home/studio-lab-user/.cache\n",
        "!df -h | grep -E 'Avail|home'\n",
        "\n",
        "print('\u001b[1;32mDone!')"
      ],
      "metadata": {
        "id": "Y3dbpSpNGIPl"
      },
      "execution_count": null,
      "outputs": []
    },
    {
      "cell_type": "markdown",
      "source": [
        "# Stable-Diffusion Cloning"
      ],
      "metadata": {
        "id": "eyQ0usVMNKj8"
      }
    },
    {
      "cell_type": "code",
      "source": [
        "!git clone https://github.com/AUTOMATIC1111/stable-diffusion-webui.git\n",
        "\n",
        "from IPython.display import clear_output\n",
        "\n",
        "%cd ~/stable-diffusion-webui\n",
        "!pip install -r requirements.txt\n",
        "\n",
        "%cd ~/stable-diffusion-webui\n",
        "\n",
        "clear_output()\n",
        "print('\u001b[1;32mDone!')"
      ],
      "metadata": {
        "id": "hkMkMdq0NTOS"
      },
      "execution_count": null,
      "outputs": []
    },
    {
      "cell_type": "markdown",
      "source": [
        "# Models or Checkpoint\n"
      ],
      "metadata": {
        "id": "D3FPHTicN93T"
      }
    },
    {
      "cell_type": "code",
      "source": [
        "import subprocess\n",
        "\n",
        "# Function to download models\n",
        "def download_models(model_info):\n",
        "    download_dir = \"/home/studio-lab-user/stable-diffusion-webui/models/Stable-diffusion\"\n",
        "\n",
        "    for model in model_info:\n",
        "        if model[\"enabled\"]:\n",
        "            # Check if the model is safetensors or .ckpt based on boolean\n",
        "            if model[\"safetensors\"]:\n",
        "                model_filename = model[\"filename\"] + \".safetensors\"\n",
        "            else:\n",
        "                model_filename = model[\"filename\"] + \".ckpt\"\n",
        "\n",
        "            # Command to download the model\n",
        "            command = [\n",
        "                \"aria2c\",\n",
        "                \"--console-log-level=error\",  # Suppress verbose output\n",
        "                \"-c\",                         # Continue if stopped\n",
        "                \"-x\", \"16\",                   # Use 16 connections\n",
        "                \"-s\", \"16\",                   # Split into 16 parts\n",
        "                \"-k\", \"1M\",                   # 1MB per segment\n",
        "                model[\"link\"],                # Download link\n",
        "                \"-d\", download_dir,           # Directory to save\n",
        "                \"-o\", model_filename          # Output file name\n",
        "            ]\n",
        "\n",
        "            print(f\"Downloading {model_filename}...\")\n",
        "            subprocess.run(command)\n",
        "            print(f\"Downloaded {model_filename} successfully!\\n\")\n",
        "        else:\n",
        "            print(f\"Skipping {model['filename']} as it is disabled.\\n\")\n",
        "\n",
        "\n",
        "\n",
        "\n",
        "# User inputs model links (paste here)\n",
        "model1_link = \"https://civitai.com/api/download/models/143906\"  # Paste the model 1 link\n",
        "model2_link = \"url_link_2\"  # Paste the model 2 link\n",
        "model3_link = \"url_link_3\"  # Paste the model 3 link\n",
        "model4_link = \"url_link_4\"  # Paste the model 4 link\n",
        "\n",
        "# List of models with enable/disable status and safetensors flag\n",
        "model_info = [\n",
        "    {\n",
        "        \"link\": model1_link,\n",
        "        \"filename\": \"epiCRealism\",\n",
        "        \"safetensors\": True,   # True for .safetensors, False for .ckpt\n",
        "        \"enabled\": True        # Set to False to skip\n",
        "    },\n",
        "    {\n",
        "        \"link\": model2_link,\n",
        "        \"filename\": \"model2\",\n",
        "        \"safetensors\": True,  # False = download as .ckpt\n",
        "        \"enabled\": False\n",
        "    },\n",
        "    {\n",
        "        \"link\": model3_link,\n",
        "        \"filename\": \"model3\",\n",
        "        \"safetensors\": True,  # Download as .ckpt\n",
        "        \"enabled\": False       # Disabled by default\n",
        "    },\n",
        "    {\n",
        "        \"link\": model4_link,\n",
        "        \"filename\": \"model4\",\n",
        "        \"safetensors\": True,   # Download as .safetensors\n",
        "        \"enabled\": False       # Disabled by default\n",
        "    }\n",
        "]\n",
        "\n",
        "# Call the function to download models based on the enable status and safetensors flag\n",
        "download_models(model_info)\n"
      ],
      "metadata": {
        "id": "8g-5gJjaOPSi"
      },
      "execution_count": null,
      "outputs": []
    },
    {
      "cell_type": "markdown",
      "source": [
        "# LoRA (Optional)"
      ],
      "metadata": {
        "id": "E_aeRowA_bXK"
      }
    },
    {
      "cell_type": "code",
      "source": [
        "import subprocess\n",
        "\n",
        "# Function to download LoRA models\n",
        "def download_lora_models(lora_info):\n",
        "    download_dir = \"/home/studio-lab-user/stable-diffusion-webui/models/Lora\"\n",
        "\n",
        "    for lora in lora_info:\n",
        "        if lora[\"enabled\"]:\n",
        "            # Automatically append \".safetensors\" to the filename\n",
        "            model_filename = lora[\"filename\"] + \".safetensors\"\n",
        "\n",
        "            # Use aria2c to download the LoRA model\n",
        "            command = [\n",
        "                \"aria2c\",\n",
        "                \"--console-log-level=error\",  # Suppress verbose output\n",
        "                \"-c\",                         # Continue if stopped\n",
        "                \"-x\", \"16\",                   # Use 16 connections\n",
        "                \"-s\", \"16\",                   # Split into 16 parts\n",
        "                \"-k\", \"1M\",                   # 1MB per segment\n",
        "                lora[\"link\"],                 # Download link\n",
        "                \"-d\", download_dir,           # Directory to save\n",
        "                \"-o\", model_filename          # Output file name with .safetensors\n",
        "            ]\n",
        "\n",
        "            print(f\"Downloading {lora['filename']} as {model_filename}...\")\n",
        "            subprocess.run(command)\n",
        "            print(f\"Downloaded {model_filename} successfully!\\n\")\n",
        "        else:\n",
        "            print(f\"Skipping {lora['filename']} as it is disabled.\\n\")\n",
        "\n",
        "\n",
        "\n",
        "\n",
        "\n",
        "# User inputs LoRA model links (paste here)\n",
        "lora1_link = \"https://civitai.com/api/download/models/103762?type=Model&format=SafeTensor\"  # Replace with actual LoRA model link\n",
        "lora2_link = \"url_link_2\"  # Replace with actual LoRA model link\n",
        "lora3_link = \"url_link_3\"  # Replace with actual LoRA model link\n",
        "lora4_link = \"url_link_4\"  # Replace with actual LoRA model link\n",
        "lora5_link = \"url_link_5\"  # Add more links as needed\n",
        "lora6_link = \"url_link_6\"\n",
        "lora7_link = \"url_link_7\"\n",
        "\n",
        "# List of LoRA models with enable/disable status\n",
        "lora_info = [\n",
        "    {\"link\": lora1_link, \"filename\": \"Oversized Clothing Collection\", \"enabled\": True},\n",
        "    {\"link\": lora2_link, \"filename\": \"LoRA_model_2\", \"enabled\": False},\n",
        "    {\"link\": lora3_link, \"filename\": \"LoRA_model_3\", \"enabled\": False},\n",
        "    {\"link\": lora4_link, \"filename\": \"LoRA_model_4\", \"enabled\": False},\n",
        "    {\"link\": lora5_link, \"filename\": \"LoRA_model_5\", \"enabled\": False},\n",
        "    {\"link\": lora6_link, \"filename\": \"LoRA_model_6\", \"enabled\": False},\n",
        "    {\"link\": lora7_link, \"filename\": \"LoRA_model_7\", \"enabled\": False}\n",
        "]\n",
        "\n",
        "# Call the function to download LoRA models\n",
        "download_lora_models(lora_info)\n"
      ],
      "metadata": {
        "id": "nRINZYmd_eE_"
      },
      "execution_count": null,
      "outputs": []
    },
    {
      "cell_type": "markdown",
      "source": [
        "# VAE (Optional)"
      ],
      "metadata": {
        "id": "TRcIqiHcBdiJ"
      }
    },
    {
      "cell_type": "code",
      "source": [
        "import subprocess\n",
        "\n",
        "# Function to download VAE models\n",
        "def download_vae_models(vae_info):\n",
        "    # Path for storing VAE models in Stable Diffusion\n",
        "    download_dir = \"/home/studio-lab-user/stable-diffusion-webui/models/VAE\"\n",
        "\n",
        "    for vae in vae_info:\n",
        "        if vae[\"enabled\"]:\n",
        "            # Automatically append \".safetensors\" or \".pt\" (adjust based on format)\n",
        "            model_filename = vae[\"filename\"] + \".safetensors\"\n",
        "\n",
        "            # Use aria2c to download the VAE model\n",
        "            command = [\n",
        "                \"aria2c\",\n",
        "                \"--console-log-level=error\",  # Suppress verbose output\n",
        "                \"-c\",                         # Continue if stopped\n",
        "                \"-x\", \"16\",                   # Use 16 connections\n",
        "                \"-s\", \"16\",                   # Split into 16 parts\n",
        "                \"-k\", \"1M\",                   # 1MB per segment\n",
        "                vae[\"link\"],                  # Download link\n",
        "                \"-d\", download_dir,           # Directory to save\n",
        "                \"-o\", model_filename          # Output file name\n",
        "            ]\n",
        "\n",
        "            print(f\"Downloading {vae['filename']} as {model_filename}...\")\n",
        "            subprocess.run(command)\n",
        "            print(f\"Downloaded {model_filename} successfully!\\n\")\n",
        "        else:\n",
        "            print(f\"Skipping {vae['filename']} as it is disabled.\\n\")\n",
        "\n",
        "\n",
        "# User inputs VAE model links (example here)\n",
        "vae1_link = \"https://civitai.com/api/download/models/28569?type=Model&format=SafeTensor\"\n",
        "vae2_link = \"https://huggingface.co/stabilityai/sd-vae-ft-mse-original/resolve/main/vae-ft-mse-840000-ema-pruned.safetensors\"\n",
        "vae3_link = \"https://example.com/path/to/vae3\"\n",
        "\n",
        "# List of VAE models with enable/disable status\n",
        "vae_info = [\n",
        "    {\"link\": vae1_link, \"filename\": \"kl-f8-anime2 VAE\", \"enabled\": True},\n",
        "    {\"link\": vae2_link, \"filename\": \"vae-ft-mse-840000-ema-pruned\", \"enabled\": True},\n",
        "    {\"link\": vae3_link, \"filename\": \"vae_model_3\", \"enabled\": False},\n",
        "]\n",
        "\n",
        "# Call the function to download VAE models\n",
        "download_vae_models(vae_info)\n"
      ],
      "metadata": {
        "id": "cZF1TMKJBfvH"
      },
      "execution_count": null,
      "outputs": []
    },
    {
      "cell_type": "markdown",
      "source": [
        "# Controal-Net extensions + Models"
      ],
      "metadata": {
        "id": "0sVXBVpMBzte"
      }
    },
    {
      "cell_type": "code",
      "source": [
        "#Control-Net Extension#\n",
        "\n",
        "!git clone https://github.com/Mikubill/sd-webui-controlnet /home/studio-lab-user/stable-diffusion-webui/extensions/sd-webui-controlnet\n",
        "\n",
        "\n",
        "#Control-Net Models#\n",
        "\n",
        "# !aria2c --console-log-level=error -c -x 16 -s 16 -k 1M https://huggingface.co/ckpt/ControlNet-v1-1/resolve/main/control_v11e_sd15_ip2p_fp16.safetensors -d /home/studio-lab-user/stable-diffusion-webui/extensions/sd-webui-controlnet/models -o control_v11e_sd15_ip2p_fp16.safetensors\n",
        "# !aria2c --console-log-level=error -c -x 16 -s 16 -k 1M https://huggingface.co/ckpt/ControlNet-v1-1/resolve/main/control_v11e_sd15_shuffle_fp16.safetensors -d /home/studio-lab-user/stable-diffusion-webui/extensions/sd-webui-controlnet/models -o control_v11e_sd15_shuffle_fp16.safetensors\n",
        "!aria2c --console-log-level=error -c -x 16 -s 16 -k 1M https://huggingface.co/ckpt/ControlNet-v1-1/resolve/main/control_v11p_sd15_canny_fp16.safetensors -d /home/studio-lab-user/stable-diffusion-webui/extensions/sd-webui-controlnet/models -o control_v11p_sd15_canny_fp16.safetensors\n",
        "!aria2c --console-log-level=error -c -x 16 -s 16 -k 1M https://huggingface.co/ckpt/ControlNet-v1-1/resolve/main/control_v11p_sd15_depth_fp16.safetensors -d /home/studio-lab-user/stable-diffusion-webui/extensions/sd-webui-controlnet/models -o control_v11p_sd15_depth_fp16.safetensors\n",
        "# !aria2c --console-log-level=error -c -x 16 -s 16 -k 1M https://huggingface.co/ckpt/ControlNet-v1-1/resolve/main/control_v11p_sd15_inpaint_fp16.safetensors -d /home/studio-lab-user/stable-diffusion-webui/extensions/sd-webui-controlnet/models -o control_v11p_sd15_inpaint_fp16.safetensors\n",
        "# !aria2c --console-log-level=error -c -x 16 -s 16 -k 1M https://huggingface.co/ckpt/ControlNet-v1-1/resolve/main/control_v11p_sd15_lineart_fp16.safetensors -d /home/studio-lab-user/stable-diffusion-webui/extensions/sd-webui-controlnet/models -o control_v11p_sd15_lineart_fp16.safetensors\n",
        "# !aria2c --console-log-level=error -c -x 16 -s 16 -k 1M https://huggingface.co/ckpt/ControlNet-v1-1/resolve/main/control_v11p_sd15_mlsd_fp16.safetensors -d /home/studio-lab-user/stable-diffusion-webui/extensions/sd-webui-controlnet/models -o control_v11p_sd15_mlsd_fp16.safetensors\n",
        "# !aria2c --console-log-level=error -c -x 16 -s 16 -k 1M https://huggingface.co/ckpt/ControlNet-v1-1/resolve/main/control_v11p_sd15_normalbae_fp16.safetensors -d /home/studio-lab-user/stable-diffusion-webui/extensions/sd-webui-controlnet/models -o control_v11p_sd15_normalbae_fp16.safetensors\n",
        "# !aria2c --console-log-level=error -c -x 16 -s 16 -k 1M https://huggingface.co/ckpt/ControlNet-v1-1/resolve/main/control_v11p_sd15_openpose_fp16.safetensors -d /home/studio-lab-user/stable-diffusion-webui/extensions/sd-webui-controlnet/models -o control_v11p_sd15_openpose_fp16.safetensors\n",
        "# !aria2c --console-log-level=error -c -x 16 -s 16 -k 1M https://huggingface.co/ckpt/ControlNet-v1-1/resolve/main/control_v11p_sd15_scribble_fp16.safetensors -d /home/studio-lab-user/stable-diffusion-webui/extensions/sd-webui-controlnet/models -o control_v11p_sd15_scribble_fp16.safetensors\n",
        "# !aria2c --console-log-level=error -c -x 16 -s 16 -k 1M https://huggingface.co/ckpt/ControlNet-v1-1/resolve/main/control_v11p_sd15_seg_fp16.safetensors -d /home/studio-lab-user/stable-diffusion-webui/extensions/sd-webui-controlnet/models -o control_v11p_sd15_seg_fp16.safetensors\n",
        "!aria2c --console-log-level=error -c -x 16 -s 16 -k 1M https://huggingface.co/ckpt/ControlNet-v1-1/resolve/main/control_v11p_sd15_softedge_fp16.safetensors -d /home/studio-lab-user/stable-diffusion-webui/extensions/sd-webui-controlnet/models -o control_v11p_sd15_softedge_fp16.safetensors\n",
        "# !aria2c --console-log-level=error -c -x 16 -s 16 -k 1M https://huggingface.co/ckpt/ControlNet-v1-1/resolve/main/control_v11p_sd15s2_lineart_anime_fp16.safetensors -d /home/studio-lab-user/stable-diffusion-webui/extensions/sd-webui-controlnet/models -o control_v11p_sd15s2_lineart_anime_fp16.safetensors\n",
        "# !aria2c --console-log-level=error -c -x 16 -s 16 -k 1M https://huggingface.co/ckpt/ControlNet-v1-1/resolve/main/control_v11u_sd15_tile_fp16.safetensors -d /home/studio-lab-user/stable-diffusion-webui/extensions/sd-webui-controlnet/models -o control_v11u_sd15_tile_fp16.safetensors\n",
        "# !aria2c --console-log-level=error -c -x 16 -s 16 -k 1M https://huggingface.co/ckpt/ControlNet-v1-1/resolve/main/t2iadapter_style_sd14v1.pth -d /home/studio-lab-user/stable-diffusion-webui/extensions/sd-webui-controlnet/models -o t2iadapter_style_sd14v1.pth\n",
        "# !aria2c --console-log-level=error -c -x 16 -s 16 -k 1M https://huggingface.co/ckpt/ControlNet-v1-1/resolve/main/t2iadapter_sketch_sd14v1.pth -d /home/studio-lab-user/stable-diffusion-webui/extensions/sd-webui-controlnet/models -o t2iadapter_sketch_sd14v1.pth\n",
        "# !aria2c --console-log-level=error -c -x 16 -s 16 -k 1M https://huggingface.co/ckpt/ControlNet-v1-1/resolve/main/t2iadapter_seg_sd14v1.pth -d /home/studio-lab-user/stable-diffusion-webui/extensions/sd-webui-controlnet/models -o t2iadapter_seg_sd14v1.pth\n",
        "# !aria2c --console-log-level=error -c -x 16 -s 16 -k 1M https://huggingface.co/ckpt/ControlNet-v1-1/resolve/main/t2iadapter_openpose_sd14v1.pth -d /home/studio-lab-user/stable-diffusion-webui/extensions/sd-webui-controlnet/models -o t2iadapter_openpose_sd14v1.pth\n",
        "# !aria2c --console-log-level=error -c -x 16 -s 16 -k 1M https://huggingface.co/ckpt/ControlNet-v1-1/resolve/main/t2iadapter_keypose_sd14v1.pth -d /home/studio-lab-user/stable-diffusion-webui/extensions/sd-webui-controlnet/models -o t2iadapter_keypose_sd14v1.pth\n",
        "# !aria2c --console-log-level=error -c -x 16 -s 16 -k 1M https://huggingface.co/ckpt/ControlNet-v1-1/resolve/main/t2iadapter_color_sd14v1.pth -d /home/studio-lab-user/stable-diffusion-webui/extensions/sd-webui-controlnet/models -o t2iadapter_color_sd14v1.pth\n",
        "# !aria2c --console-log-level=error -c -x 16 -s 16 -k 1M https://huggingface.co/ckpt/ControlNet-v1-1/resolve/main/t2iadapter_canny_sd15v2.pth -d /home/studio-lab-user/stable-diffusion-webui/extensions/sd-webui-controlnet/models -o t2iadapter_canny_sd15v2.pth\n",
        "# !aria2c --console-log-level=error -c -x 16 -s 16 -k 1M https://huggingface.co/ckpt/ControlNet-v1-1/resolve/main/t2iadapter_depth_sd15v2.pth -d /home/studio-lab-user/stable-diffusion-webui/extensions/sd-webui-controlnet/models -o t2iadapter_depth_sd15v2.pth\n",
        "# !aria2c --console-log-level=error -c -x 16 -s 16 -k 1M https://huggingface.co/ckpt/ControlNet-v1-1/resolve/main/t2iadapter_sketch_sd15v2.pth -d /home/studio-lab-user/stable-diffusion-webui/extensions/sd-webui-controlnet/models -o t2iadapter_sketch_sd15v2.pth\n",
        "# !aria2c --console-log-level=error -c -x 16 -s 16 -k 1M https://huggingface.co/ckpt/ControlNet-v1-1/resolve/main/t2iadapter_zoedepth_sd15v1.pth -d /home/studio-lab-user/stable-diffusion-webui/extensions/sd-webui-controlnet/models -o t2iadapter_zoedepth_sd15v1.pth\n",
        "# !aria2c --console-log-level=error -c -x 16 -s 16 -k 1M https://huggingface.co/monster-labs/control_v1p_sd15_qrcode_monster/resolve/main/control_v1p_sd15_qrcode_monster.safetensors -d /home/studio-lab-user/stable-diffusion-webui/extensions/sd-webui-controlnet/models -o control_v1p_sd15_qrcode_monster.safetensors\n",
        "# !aria2c --console-log-level=error -c -x 16 -s 16 -k 1M https://huggingface.co/monster-labs/control_v1p_sd15_qrcode_monster/resolve/main/v2/control_v1p_sd15_qrcode_monster_v2.safetensors -d /home/studio-lab-user/stable-diffusion-webui/extensions/sd-webui-controlnet/models -o control_v1p_sd15_qrcode_monster_v2.safetensors\n",
        "\n",
        "print('\u001b[1;32mDone!')"
      ],
      "metadata": {
        "id": "7IiXw6LyB2qW"
      },
      "execution_count": null,
      "outputs": []
    },
    {
      "cell_type": "markdown",
      "source": [
        "# Before Runing Clear .cache"
      ],
      "metadata": {
        "id": "AvzvbS1hGgft"
      }
    },
    {
      "cell_type": "code",
      "source": [
        "!rm -rf /home/studio-lab-user/.cache\n",
        "!df -h | grep -E 'Avail|home'\n",
        "\n",
        "print('\u001b[1;32mDone!')"
      ],
      "metadata": {
        "id": "BtUwy7GCGn-1"
      },
      "execution_count": null,
      "outputs": []
    },
    {
      "cell_type": "markdown",
      "source": [
        "# Launch Stable-Diffusion WebUi"
      ],
      "metadata": {
        "id": "R9kbPdGlCXmS"
      }
    },
    {
      "cell_type": "code",
      "source": [
        "%cd ~/stable-diffusion-webui\n",
        "\n",
        "!python launch.py --listen --xformers --enable-insecure-extension-access --gradio-queue --ngrok 2XWKyblB2vN0oonn4F9owPN1gfL_4wZ4rxXdb8sPQ7fxwoM6G"
      ],
      "metadata": {
        "id": "D9H6oupiCZcl"
      },
      "execution_count": null,
      "outputs": []
    },
    {
      "cell_type": "markdown",
      "source": [
        "# Clean Everythings"
      ],
      "metadata": {
        "id": "hbC8fvM2Faik"
      }
    },
    {
      "cell_type": "code",
      "source": [
        "#Check the storage available\n",
        "!df -h | grep -E 'Avail|home'\n",
        "\n",
        "print('\u001b[1;32mDone!')"
      ],
      "metadata": {
        "id": "6RwwAlcmFhTm"
      },
      "execution_count": null,
      "outputs": []
    },
    {
      "cell_type": "code",
      "source": [
        "#clean remove all env, cache and file\n",
        "\n",
        "!rm -r /home/studio-lab-user/.cache\n",
        "!rm -r /home/studio-lab-user/.conda\n",
        "!conda clean --all\n",
        "!rm -rf /home/studio-lab-user/*"
      ],
      "metadata": {
        "id": "AjWvcfaJFiye"
      },
      "execution_count": null,
      "outputs": []
    },
    {
      "cell_type": "code",
      "source": [
        "!du -h --max-depth=1 /home/studio-lab-user"
      ],
      "metadata": {
        "id": "5oYSdjzzFsnG"
      },
      "execution_count": null,
      "outputs": []
    }
  ],
  "metadata": {
    "colab": {
      "provenance": [],
      "collapsed_sections": [
        "vxYteB9nSX3-",
        "76xxmC9HKdms",
        "acwt-0GXML07",
        "kVRWAJQzF1tc",
        "eyQ0usVMNKj8",
        "D3FPHTicN93T",
        "E_aeRowA_bXK",
        "TRcIqiHcBdiJ",
        "0sVXBVpMBzte",
        "AvzvbS1hGgft",
        "R9kbPdGlCXmS",
        "hbC8fvM2Faik"
      ]
    },
    "kernelspec": {
      "display_name": "Python 3",
      "name": "python3"
    }
  },
  "nbformat": 4,
  "nbformat_minor": 0
}